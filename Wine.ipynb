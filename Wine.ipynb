{
 "cells": [
  {
   "cell_type": "code",
   "execution_count": 140,
   "metadata": {},
   "outputs": [],
   "source": [
    "import numpy as np\n",
    "import pandas as pd\n",
    "import re\n",
    "import nltk\n",
    "from nltk.corpus import stopwords\n",
    "from nltk.tokenize import word_tokenize\n",
    "from sklearn.preprocessing import Imputer, StandardScaler, LabelEncoder\n",
    "from sklearn.feature_extraction.text import CountVectorizer, TfidfTransformer\n",
    "import matplotlib.pyplot as plt"
   ]
  },
  {
   "cell_type": "code",
   "execution_count": 113,
   "metadata": {},
   "outputs": [],
   "source": [
    "pd.set_option(\"display.max_colwidth\", -1)"
   ]
  },
  {
   "cell_type": "code",
   "execution_count": 114,
   "metadata": {},
   "outputs": [],
   "source": [
    "data = pd.read_csv('winemag-data_first150k.csv', delimiter=\",\", encoding=\"utf-8\")\n",
    "data = data.iloc[:,1:]"
   ]
  },
  {
   "cell_type": "code",
   "execution_count": 115,
   "metadata": {},
   "outputs": [
    {
     "data": {
      "text/html": [
       "<div>\n",
       "<style scoped>\n",
       "    .dataframe tbody tr th:only-of-type {\n",
       "        vertical-align: middle;\n",
       "    }\n",
       "\n",
       "    .dataframe tbody tr th {\n",
       "        vertical-align: top;\n",
       "    }\n",
       "\n",
       "    .dataframe thead th {\n",
       "        text-align: right;\n",
       "    }\n",
       "</style>\n",
       "<table border=\"1\" class=\"dataframe\">\n",
       "  <thead>\n",
       "    <tr style=\"text-align: right;\">\n",
       "      <th></th>\n",
       "      <th>country</th>\n",
       "      <th>description</th>\n",
       "      <th>designation</th>\n",
       "      <th>points</th>\n",
       "      <th>price</th>\n",
       "      <th>province</th>\n",
       "      <th>region_1</th>\n",
       "      <th>region_2</th>\n",
       "      <th>variety</th>\n",
       "      <th>winery</th>\n",
       "    </tr>\n",
       "  </thead>\n",
       "  <tbody>\n",
       "    <tr>\n",
       "      <th>0</th>\n",
       "      <td>US</td>\n",
       "      <td>This tremendous 100% varietal wine hails from Oakville and was aged over three years in oak. Juicy red-cherry fruit and a compelling hint of caramel greet the palate, framed by elegant, fine tannins and a subtle minty tone in the background. Balanced and rewarding from start to finish, it has years ahead of it to develop further nuance. Enjoy 2022–2030.</td>\n",
       "      <td>Martha's Vineyard</td>\n",
       "      <td>96</td>\n",
       "      <td>235.0</td>\n",
       "      <td>California</td>\n",
       "      <td>Napa Valley</td>\n",
       "      <td>Napa</td>\n",
       "      <td>Cabernet Sauvignon</td>\n",
       "      <td>Heitz</td>\n",
       "    </tr>\n",
       "    <tr>\n",
       "      <th>1</th>\n",
       "      <td>Spain</td>\n",
       "      <td>Ripe aromas of fig, blackberry and cassis are softened and sweetened by a slathering of oaky chocolate and vanilla. This is full, layered, intense and cushioned on the palate, with rich flavors of chocolaty black fruits and baking spices. A toasty, everlasting finish is heady but ideally balanced. Drink through 2023.</td>\n",
       "      <td>Carodorum Selección Especial Reserva</td>\n",
       "      <td>96</td>\n",
       "      <td>110.0</td>\n",
       "      <td>Northern Spain</td>\n",
       "      <td>Toro</td>\n",
       "      <td>NaN</td>\n",
       "      <td>Tinta de Toro</td>\n",
       "      <td>Bodega Carmen Rodríguez</td>\n",
       "    </tr>\n",
       "    <tr>\n",
       "      <th>2</th>\n",
       "      <td>US</td>\n",
       "      <td>Mac Watson honors the memory of a wine once made by his mother in this tremendously delicious, balanced and complex botrytised white. Dark gold in color, it layers toasted hazelnut, pear compote and orange peel flavors, reveling in the succulence of its 122 g/L of residual sugar.</td>\n",
       "      <td>Special Selected Late Harvest</td>\n",
       "      <td>96</td>\n",
       "      <td>90.0</td>\n",
       "      <td>California</td>\n",
       "      <td>Knights Valley</td>\n",
       "      <td>Sonoma</td>\n",
       "      <td>Sauvignon Blanc</td>\n",
       "      <td>Macauley</td>\n",
       "    </tr>\n",
       "  </tbody>\n",
       "</table>\n",
       "</div>"
      ],
      "text/plain": [
       "  country  \\\n",
       "0  US       \n",
       "1  Spain    \n",
       "2  US       \n",
       "\n",
       "                                                                                                                                                                                                                                                                                                                                                           description  \\\n",
       "0  This tremendous 100% varietal wine hails from Oakville and was aged over three years in oak. Juicy red-cherry fruit and a compelling hint of caramel greet the palate, framed by elegant, fine tannins and a subtle minty tone in the background. Balanced and rewarding from start to finish, it has years ahead of it to develop further nuance. Enjoy 2022–2030.   \n",
       "1  Ripe aromas of fig, blackberry and cassis are softened and sweetened by a slathering of oaky chocolate and vanilla. This is full, layered, intense and cushioned on the palate, with rich flavors of chocolaty black fruits and baking spices. A toasty, everlasting finish is heady but ideally balanced. Drink through 2023.                                        \n",
       "2  Mac Watson honors the memory of a wine once made by his mother in this tremendously delicious, balanced and complex botrytised white. Dark gold in color, it layers toasted hazelnut, pear compote and orange peel flavors, reveling in the succulence of its 122 g/L of residual sugar.                                                                              \n",
       "\n",
       "                            designation  points  price        province  \\\n",
       "0  Martha's Vineyard                     96      235.0  California       \n",
       "1  Carodorum Selección Especial Reserva  96      110.0  Northern Spain   \n",
       "2  Special Selected Late Harvest         96      90.0   California       \n",
       "\n",
       "         region_1 region_2             variety                   winery  \n",
       "0  Napa Valley     Napa     Cabernet Sauvignon  Heitz                    \n",
       "1  Toro            NaN      Tinta de Toro       Bodega Carmen Rodríguez  \n",
       "2  Knights Valley  Sonoma   Sauvignon Blanc     Macauley                 "
      ]
     },
     "execution_count": 115,
     "metadata": {},
     "output_type": "execute_result"
    }
   ],
   "source": [
    "data.head(3)"
   ]
  },
  {
   "cell_type": "code",
   "execution_count": 116,
   "metadata": {},
   "outputs": [],
   "source": [
    "data.drop([\"region_1\", \"region_2\"], axis=1, inplace=True)"
   ]
  },
  {
   "cell_type": "code",
   "execution_count": 117,
   "metadata": {},
   "outputs": [
    {
     "data": {
      "text/plain": [
       "country        5    \n",
       "description    0    \n",
       "designation    45735\n",
       "points         0    \n",
       "price          13695\n",
       "province       5    \n",
       "variety        0    \n",
       "winery         0    \n",
       "dtype: int64"
      ]
     },
     "execution_count": 117,
     "metadata": {},
     "output_type": "execute_result"
    }
   ],
   "source": [
    "data.isnull().sum()"
   ]
  },
  {
   "cell_type": "code",
   "execution_count": 118,
   "metadata": {},
   "outputs": [
    {
     "data": {
      "text/plain": [
       "{'Albania',\n",
       " 'Argentina',\n",
       " 'Australia',\n",
       " 'Austria',\n",
       " 'Bosnia and Herzegovina',\n",
       " 'Brazil',\n",
       " 'Bulgaria',\n",
       " 'Canada',\n",
       " 'Chile',\n",
       " 'China',\n",
       " 'Croatia',\n",
       " 'Cyprus',\n",
       " 'Czech Republic',\n",
       " 'Egypt',\n",
       " 'England',\n",
       " 'France',\n",
       " 'Georgia',\n",
       " 'Germany',\n",
       " 'Greece',\n",
       " 'Hungary',\n",
       " 'India',\n",
       " 'Israel',\n",
       " 'Italy',\n",
       " 'Japan',\n",
       " 'Lebanon',\n",
       " 'Lithuania',\n",
       " 'Luxembourg',\n",
       " 'Macedonia',\n",
       " 'Mexico',\n",
       " 'Moldova',\n",
       " 'Montenegro',\n",
       " 'Morocco',\n",
       " 'New Zealand',\n",
       " 'Portugal',\n",
       " 'Romania',\n",
       " 'Serbia',\n",
       " 'Slovakia',\n",
       " 'Slovenia',\n",
       " 'South Africa',\n",
       " 'South Korea',\n",
       " 'Spain',\n",
       " 'Switzerland',\n",
       " 'Tunisia',\n",
       " 'Turkey',\n",
       " 'US',\n",
       " 'US-France',\n",
       " 'Ukraine',\n",
       " 'Uruguay',\n",
       " nan}"
      ]
     },
     "execution_count": 118,
     "metadata": {},
     "output_type": "execute_result"
    }
   ],
   "source": [
    "set(data.country)"
   ]
  },
  {
   "cell_type": "code",
   "execution_count": 119,
   "metadata": {},
   "outputs": [
    {
     "data": {
      "text/plain": [
       "country        5    \n",
       "description    0    \n",
       "designation    45735\n",
       "points         0    \n",
       "price          13695\n",
       "province       5    \n",
       "variety        0    \n",
       "winery         0    \n",
       "dtype: int64"
      ]
     },
     "execution_count": 119,
     "metadata": {},
     "output_type": "execute_result"
    }
   ],
   "source": [
    "data.isnull().sum()"
   ]
  },
  {
   "cell_type": "code",
   "execution_count": 120,
   "metadata": {},
   "outputs": [],
   "source": [
    "from collections import Counter"
   ]
  },
  {
   "cell_type": "code",
   "execution_count": null,
   "metadata": {
    "scrolled": true
   },
   "outputs": [],
   "source": []
  },
  {
   "cell_type": "code",
   "execution_count": 121,
   "metadata": {
    "scrolled": true
   },
   "outputs": [
    {
     "name": "stderr",
     "output_type": "stream",
     "text": [
      "/usr/local/lib/python3.5/dist-packages/ipykernel_launcher.py:2: SettingWithCopyWarning: \n",
      "A value is trying to be set on a copy of a slice from a DataFrame\n",
      "\n",
      "See the caveats in the documentation: http://pandas.pydata.org/pandas-docs/stable/indexing.html#indexing-view-versus-copy\n",
      "  \n",
      "/usr/local/lib/python3.5/dist-packages/ipykernel_launcher.py:3: SettingWithCopyWarning: \n",
      "A value is trying to be set on a copy of a slice from a DataFrame\n",
      "\n",
      "See the caveats in the documentation: http://pandas.pydata.org/pandas-docs/stable/indexing.html#indexing-view-versus-copy\n",
      "  This is separate from the ipykernel package so we can avoid doing imports until\n"
     ]
    }
   ],
   "source": [
    "# Country\n",
    "data.country[data.winery=='Chilcas']=\"Chile\"\n",
    "data.country[data.winery==\"Tsililis\"] = \"Greece\"\n",
    "data.drop([1440], axis=0, inplace=True)"
   ]
  },
  {
   "cell_type": "code",
   "execution_count": 122,
   "metadata": {},
   "outputs": [],
   "source": [
    "data.loc[(data.country==\"Greece\") & (data.winery==\"Tsililis\") & data.province.isnull(),'province'] = \"Greece\"\n",
    "data.loc[(data.country==\"Chile\") & (data.winery==\"Chilcas\") & (data.variety==\"Pinot Noir\"), \"province\"] = \"Maule Valley\""
   ]
  },
  {
   "cell_type": "code",
   "execution_count": 123,
   "metadata": {},
   "outputs": [],
   "source": [
    "data.loc[(data.country==\"Italy\") & (data.winery==\"Abbadia Ardenga\") & (data.variety==\"Sangiovese\"), \"price\"] = 65.0\n",
    "data.loc[(data.country==\"France\") & (data.winery==\"Domaine Vacheron\") & (data.variety==\"Sauvignon Blanc\") & (data.designation==\"Les Romains\"), \"price\"] = 46.666666666666664\n",
    "data.loc[(data.country==\"France\") & (data.winery==\"Domaine Vacheron\") & (data.variety==\"Sauvignon Blanc\") & (data.price.isnull()), \"price\"] = 39.428571428571423\n",
    "data.loc[(data.country==\"France\") & (data.winery==\"Domaine Vacheron\") & (data.price.isnull()), \"price\"] = 41.18796992481203\n",
    "data.loc[(data.country==\"France\") & (data.province==\"Bordeaux\") & (data.winery==\"Les Hauts de Tousquiron\"), \"price\"] = 28.0\n",
    "data.loc[(data.country==\"France\") & (data.province==\"Bordeaux\") & (data.winery==\"Château Ferran\"), \"price\"] = 42.574539992489676\n",
    "data.loc[(data.country==\"France\") & (data.province==\"Bordeaux\") & (data.winery==\"Château de Portets\") & (data.price.isnull()), \"price\"] = 22.0\n",
    "data.loc[(data.country==\"France\") & (data.province==\"Bordeaux\") & (data.winery==\"Château Lafargue\"), \"price\"] = 42.566819714818948\n",
    "data.loc[(data.country==\"Italy\") & (data.price.isnull()), \"price\"] = 37.549374500931592\n",
    "data.loc[(data.country==\"US\") & (data.price.isnull()), \"price\"] = 33.653808397302818\n",
    "data.loc[(data.country==\"Spain\") & (data.price.isnull()), \"price\"] = 27.048529411764704\n",
    "data.loc[(data.country==\"France\") & (data.price.isnull()), \"price\"] = 45.609149427629319\n",
    "data.loc[(data.country==\"Austria\") & (data.price.isnull()), \"price\"] = 31.192106322996377\n",
    "data.loc[(data.country==\"Portugal\") & (data.price.isnull()), \"price\"] = 26.332614942528735\n",
    "data.loc[(data.country==\"New Zealand\") & (data.price.isnull()), \"price\"] = 24.173289902280132\n",
    "data.loc[(data.country==\"Argentina\") & (data.price.isnull()), \"price\"] = 20.794880973688922\n",
    "data.loc[(data.country==\"Germany\") & (data.price.isnull()), \"price\"] = 39.011077971878997\n",
    "data.loc[(data.country==\"Australia\") & (data.price.isnull()), \"price\"] = 31.258479771148345\n",
    "data.loc[(data.country==\"Chile\") & (data.price.isnull()), \"price\"] = 19.342520367481367\n",
    "data.loc[(data.country==\"Israel\") & (data.price.isnull()), \"price\"] = 31.304918032786887\n",
    "data.loc[(data.country==\"South Africa\") & (data.price.isnull()), \"price\"] = 21.130531962449709\n",
    "data.loc[(data.country==\"Slovenia\") & (data.price.isnull()), \"price\"] = 28.061728395061728\n",
    "data.loc[(data.country==\"Turkey\") & (data.price.isnull()), \"price\"] = 25.800000000000001\n",
    "data.loc[(data.country==\"Greece\") & (data.price.isnull()), \"price\"] = 21.742268041237114\n",
    "data.loc[(data.country==\"England\") & (data.price.isnull()), \"price\"] = 47.5\n",
    "data.loc[(data.country==\"Uruguay\") & (data.price.isnull()), \"price\"] = 25.847058823529412\n",
    "data.loc[(data.country==\"Croatia\") & (data.price.isnull()), \"price\"] = 23.108433734939759\n",
    "data.loc[(data.country==\"Hungary\") & (data.price.isnull()), \"price\"] = 44.204347826086959\n",
    "data.loc[(data.country==\"Canada\") & (data.price.isnull()), \"price\"] = 34.628865979381445\n",
    "data.loc[(data.price.isnull()), \"price\"] = 33.703910449195497\n"
   ]
  },
  {
   "cell_type": "code",
   "execution_count": 124,
   "metadata": {},
   "outputs": [],
   "source": [
    "from sklearn.tree import DecisionTreeClassifier\n",
    "from sklearn.neighbors import KNeighborsClassifier\n",
    "from sklearn.model_selection import KFold"
   ]
  },
  {
   "cell_type": "code",
   "execution_count": 125,
   "metadata": {},
   "outputs": [],
   "source": [
    "new_data = data\n",
    "lb_country = LabelEncoder()\n",
    "lb_country.fit(new_data.country)\n",
    "new_data.country = lb_country.transform(new_data.country)\n",
    "lb_province = LabelEncoder()\n",
    "lb_province.fit(new_data.province)\n",
    "new_data.province = lb_province.transform(new_data.province)\n",
    "lb_variety = LabelEncoder()\n",
    "lb_variety.fit(new_data.variety)\n",
    "new_data.variety = lb_variety.transform(new_data.variety)\n",
    "lb_winery = LabelEncoder()\n",
    "lb_winery.fit(new_data.winery)\n",
    "new_data.winery = lb_winery.transform(new_data.winery)\n"
   ]
  },
  {
   "cell_type": "code",
   "execution_count": 126,
   "metadata": {},
   "outputs": [
    {
     "name": "stderr",
     "output_type": "stream",
     "text": [
      "/usr/local/lib/python3.5/dist-packages/pandas/core/generic.py:3643: SettingWithCopyWarning: \n",
      "A value is trying to be set on a copy of a slice from a DataFrame.\n",
      "Try using .loc[row_indexer,col_indexer] = value instead\n",
      "\n",
      "See the caveats in the documentation: http://pandas.pydata.org/pandas-docs/stable/indexing.html#indexing-view-versus-copy\n",
      "  self[name] = value\n",
      "/usr/local/lib/python3.5/dist-packages/ipykernel_launcher.py:6: SettingWithCopyWarning: \n",
      "A value is trying to be set on a copy of a slice from a DataFrame\n",
      "\n",
      "See the caveats in the documentation: http://pandas.pydata.org/pandas-docs/stable/indexing.html#indexing-view-versus-copy\n",
      "  \n",
      "/usr/local/lib/python3.5/dist-packages/ipykernel_launcher.py:7: SettingWithCopyWarning: \n",
      "A value is trying to be set on a copy of a slice from a DataFrame\n",
      "\n",
      "See the caveats in the documentation: http://pandas.pydata.org/pandas-docs/stable/indexing.html#indexing-view-versus-copy\n",
      "  import sys\n"
     ]
    }
   ],
   "source": [
    "train = new_data[new_data.designation.notnull()]\n",
    "test = new_data[new_data.designation.isnull()]\n",
    "lb_designation = LabelEncoder()\n",
    "train.designation = lb_designation.fit_transform(train.designation)\n",
    "y_train = train.designation\n",
    "train.drop(['description','designation'], axis=1, inplace=True)\n",
    "test.drop(['description','designation'], axis=1, inplace=True)"
   ]
  },
  {
   "cell_type": "code",
   "execution_count": 127,
   "metadata": {},
   "outputs": [
    {
     "data": {
      "text/plain": [
       "KNeighborsClassifier(algorithm='auto', leaf_size=30, metric='minkowski',\n",
       "           metric_params=None, n_jobs=-1, n_neighbors=4, p=2,\n",
       "           weights='uniform')"
      ]
     },
     "execution_count": 127,
     "metadata": {},
     "output_type": "execute_result"
    }
   ],
   "source": [
    "# clf = DecisionTreeClassifier(max_depth=7, max_features=\"auto\", min_samples_split=5, random_state=0)\n",
    "clf = KNeighborsClassifier(n_neighbors=4, n_jobs=-1)\n",
    "clf.fit(train, y_train)"
   ]
  },
  {
   "cell_type": "code",
   "execution_count": 128,
   "metadata": {},
   "outputs": [],
   "source": [
    "pred = clf.predict(test)"
   ]
  },
  {
   "cell_type": "code",
   "execution_count": 129,
   "metadata": {},
   "outputs": [],
   "source": [
    "predictions = lb_designation.inverse_transform(pred)"
   ]
  },
  {
   "cell_type": "code",
   "execution_count": 130,
   "metadata": {},
   "outputs": [],
   "source": [
    "test = pd.concat([test,pd.DataFrame(predictions)], axis=1, ignore_index=True, join=\"inner\")\n",
    "test.columns = ['country', 'points', 'price', 'province', 'variety', 'winery', 'designation']\n",
    "train = pd.concat([train,pd.DataFrame(y_train)], axis=1, ignore_index=True, join=\"inner\")\n",
    "train.columns = ['country', 'points', 'price', 'province', 'variety', 'winery', 'designation']"
   ]
  },
  {
   "cell_type": "code",
   "execution_count": 131,
   "metadata": {
    "scrolled": false
   },
   "outputs": [],
   "source": [
    "train.country = lb_country.inverse_transform(train.country)\n",
    "test.country = lb_country.inverse_transform(test.country)\n",
    "train.province = lb_province.inverse_transform(train.province)\n",
    "test.province = lb_province.inverse_transform(test.province)\n",
    "train.variety = lb_variety.inverse_transform(train.variety)\n",
    "test.variety = lb_variety.inverse_transform(test.variety)\n",
    "train.winery = lb_winery.inverse_transform(train.winery)\n",
    "test.winery = lb_winery.inverse_transform(test.winery)\n",
    "train.designation = lb_designation.inverse_transform(y_train)"
   ]
  },
  {
   "cell_type": "code",
   "execution_count": 132,
   "metadata": {},
   "outputs": [],
   "source": [
    "import math\n",
    "import operator\n",
    "def euclidean(x,y,l):\n",
    "    d = 0\n",
    "    for i in range(l):\n",
    "        d += pow((x[i]-y[i]),2)\n",
    "    return math.sqrt(d)\n",
    "\n",
    "def neighbours(train, test, k):\n",
    "    dist = []\n",
    "    length = len(test)-1\n",
    "    for i in range(len(train)):\n",
    "        dist.append((train[i], euclidean(test,train[i],length)))\n",
    "    dist.sort(key=operator.itemgetter(1)) \n",
    "    neighbours = []\n",
    "    for x in range(k):\n",
    "        neighbours.append(dist[x][0])\n",
    "    return neighbours\n",
    "\n",
    "# def response(neighbours):\n",
    "#     classVotes = {}\n",
    "#     for x in range(len(neighbors)):\n",
    "#         response = neighbors[x][-1]\n",
    "#         if response in classVotes:\n",
    "#             classVotes[response] += 1\n",
    "#         else:\n",
    "#             classVotes[response] = 1\n",
    "#     sortedVotes = sorted(classVotes.iteritems(), key=operator.itemgetter(1), reverse=True)\n",
    "#     return sortedVotes[]"
   ]
  },
  {
   "cell_type": "code",
   "execution_count": 133,
   "metadata": {
    "scrolled": false
   },
   "outputs": [],
   "source": [
    "final_data = pd.concat([train,test], axis=0)"
   ]
  },
  {
   "cell_type": "code",
   "execution_count": 136,
   "metadata": {},
   "outputs": [],
   "source": [
    "lb_country = LabelEncoder()\n",
    "lb_country.fit(final_data.country)\n",
    "final_data.country = lb_country.transform(final_data.country)\n",
    "lb_province = LabelEncoder()\n",
    "lb_province.fit(final_data.province)\n",
    "final_data.province = lb_province.transform(final_data.province)\n",
    "lb_variety = LabelEncoder()\n",
    "lb_variety.fit(final_data.variety)\n",
    "final_data.variety = lb_variety.transform(final_data.variety)\n",
    "lb_winery = LabelEncoder()\n",
    "lb_winery.fit(final_data.winery)\n",
    "final_data.winery = lb_winery.transform(final_data.winery)\n",
    "lb_designation = LabelEncoder()\n",
    "final_data.designation = lb_designation.fit_transform(final_data.designation)"
   ]
  },
  {
   "cell_type": "code",
   "execution_count": 138,
   "metadata": {},
   "outputs": [],
   "source": [
    "from sklearn.cluster import DBSCAN"
   ]
  },
  {
   "cell_type": "code",
   "execution_count": 143,
   "metadata": {},
   "outputs": [
    {
     "data": {
      "text/plain": [
       "DBSCAN(algorithm='auto', eps=0.5, leaf_size=30, metric='euclidean',\n",
       "    metric_params=None, min_samples=5, n_jobs=-1, p=None)"
      ]
     },
     "execution_count": 143,
     "metadata": {},
     "output_type": "execute_result"
    }
   ],
   "source": [
    "cluster = DBSCAN(n_jobs=-1)\n",
    "cluster.fit(final_data.values)\n"
   ]
  },
  {
   "cell_type": "code",
   "execution_count": 153,
   "metadata": {},
   "outputs": [
    {
     "data": {
      "image/png": "[encoded data removed]",
      "text/plain": [
       "<matplotlib.figure.Figure at 0x7f21da596ef0>"
      ]
     },
     "metadata": {},
     "output_type": "display_data"
    }
   ],
   "source": [
    "core_samples_mask = np.zeros_like(cluster.labels_, dtype=bool)\n",
    "core_samples_mask[cluster.core_sample_indices_] = True\n",
    "labels = cluster.labels_\n",
    "\n",
    "# Black removed and is used for noise instead.\n",
    "unique_labels = set(labels)\n",
    "colors = plt.cm.Spectral(np.linspace(0, 1, len(unique_labels)))\n",
    "for k, col in zip(unique_labels, colors):\n",
    "    if k == -1:\n",
    "        # Black used for noise.\n",
    "        continue\n",
    "\n",
    "    class_member_mask = (labels == k)  # generator comprehension \n",
    "    # X is your data matrix\n",
    "    X = np.array(final_data.values)\n",
    "\n",
    "    xy = X[class_member_mask & core_samples_mask]\n",
    "\n",
    "    plt.plot(xy[:, 0], xy[:, 1], 'o', markerfacecolor=col,\n",
    "             markeredgecolor='k', markersize=6)\n",
    "\n",
    "#     xy = X[class_member_mask & ~core_samples_mask]\n",
    "#     plt.plot(xy[:, 0], xy[:, 1], 'o', markerfacecolor=col,\n",
    "#              markeredgecolor='k', markersize=2)\n",
    " \n",
    "#        plt.title('Estimated number of clusters: %d' % n_clusters_)\n",
    "plt.show()"
   ]
  },
  {
   "cell_type": "code",
   "execution_count": 158,
   "metadata": {},
   "outputs": [
    {
     "data": {
      "text/plain": [
       "array([  2.00000000e+00,   9.00000000e+01,   6.50000000e+01,\n",
       "         3.36000000e+02,   4.72000000e+02,   4.06600000e+03,\n",
       "         2.68390000e+04])"
      ]
     },
     "execution_count": 158,
     "metadata": {},
     "output_type": "execute_result"
    }
   ],
   "source": []
  },
  {
   "cell_type": "code",
   "execution_count": null,
   "metadata": {},
   "outputs": [],
   "source": []
  }
 ],
 "metadata": {
  "kernelspec": {
   "display_name": "Python 3",
   "language": "python",
   "name": "python3"
  },
  "language_info": {
   "codemirror_mode": {
    "name": "ipython",
    "version": 3
   },
   "file_extension": ".py",
   "mimetype": "text/x-python",
   "name": "python",
   "nbconvert_exporter": "python",
   "pygments_lexer": "ipython3",
   "version": "3.5.2+"
  }
 },
 "nbformat": 4,
 "nbformat_minor": 2
}
